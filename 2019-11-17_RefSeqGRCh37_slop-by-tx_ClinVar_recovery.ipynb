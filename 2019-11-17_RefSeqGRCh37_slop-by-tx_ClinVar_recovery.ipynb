{
 "cells": [
  {
   "cell_type": "markdown",
   "metadata": {},
   "source": [
    "### 15 November 2019\n",
    "# Bedtools slop RefSeq GRCh37 exonic regions\n",
    "### Pavlos Bousounis\n",
    "***Last updated 2019-11-17***"
   ]
  },
  {
   "cell_type": "code",
   "execution_count": 4,
   "metadata": {},
   "outputs": [],
   "source": [
    "import glob\n",
    "from natsort import natsorted\n",
    "import numpy as np\n",
    "import os\n",
    "import pandas as pd\n",
    "import pathlib\n",
    "import pybedtools\n",
    "from pybedtools import BedTool\n",
    "import re"
   ]
  },
  {
   "cell_type": "markdown",
   "metadata": {},
   "source": [
    "## Current working directory and date"
   ]
  },
  {
   "cell_type": "code",
   "execution_count": 3,
   "metadata": {},
   "outputs": [
    {
     "name": "stdout",
     "output_type": "stream",
     "text": [
      "\n",
      "Current working directory: /Users/pbousounis/Experiments/2019-10-29_hg19mod/2019-11-10_RefSeq-ClinVar_GRCh37_slop_region_recovery\n",
      "\n",
      "Today is: 2019-11-17\n",
      "\n"
     ]
    }
   ],
   "source": [
    "basedir = '/Users/pbousounis/Experiments/2019-10-29_hg19mod/2019-11-10_RefSeq-ClinVar_GRCh37_slop_region_recovery'\n",
    "os.chdir(basedir)\n",
    "today = datetime.today().strftime('%Y-%m-%d')\n",
    "\n",
    "print('\\nCurrent working directory: {}\\n'.format(os.getcwd()))\n",
    "\n",
    "print('Today is: {}\\n'.format(today))"
   ]
  },
  {
   "cell_type": "code",
   "execution_count": null,
   "metadata": {},
   "outputs": [],
   "source": [
    "# list of slopped refseq bed files to intersect\n",
    "slop_files = glob.glob('data/2019-11-13_RefSeqGRCh37_exon_slop_bed/*RefSeqGRCh37*slop*bed')\n",
    "\n",
    "file = slop_files[1]\n",
    "\n",
    "bedcols = ['chr', 'start', 'end', 'name']\n",
    "df = pd.DataFrame(columns=bedcols)\n",
    "for file in slop_files:\n",
    "\n",
    "    # import file as dataframe\n",
    "    tmp = pd.read_csv(file, sep='\\t', header=None, names=bedcols)\n",
    "        \n",
    "    # extract transcript IDs and gene names to their own columns\n",
    "    tmp['tx_id'] = tmp['name'].str.extract(r'(\\w+-)(N(M|R)_\\d+)')[1]\n",
    "    #tmp['gene'] = tmp['name'].str.split('-').str[0]\n",
    "    \n",
    "    # add column with slop file ID\n",
    "    tmp['slop_len'] = re.findall(r'slop\\d+', file)[0]\n",
    "    \n",
    "    # split by transcript accession (RefSeq)\n",
    "    tx_table = pd.DataFrame(columns=bedcols) \n",
    "    for tx in tmp.tx_id.unique():\n",
    "        \n",
    "        # subset by tx_id\n",
    "        tmp_tx = tmp[tmp.tx_id == tx]\n",
    "        \n",
    "        # extract exon numbers (arbitrary; relative to transcript)\n",
    "        tmp_tx.loc[:, 'exon_num'] = tmp_tx['name'].str.split('-', n=1).str[-1]\n",
    "        \n",
    "        # convert to bedtool \n",
    "        tx_bedtool = BedTool.from_dataframe(tmp_tx).sort()\n",
    "        \n",
    "        # bedtools merge -c 7 -o 'collapse'\n",
    "        tx_merged = tx_bedtool.merge(c=7, o='collapse')\n",
    "        \n",
    "        # convert to dataframe\n",
    "        tx_df = pd.read_table(tx_merged.fn, names=bedcols)\n",
    "        \n",
    "        # add tx_id column\n",
    "        tx_df.loc[:, 'tx_id'] = tx_df['name'].str.split(':').str[0]\n",
    "\n",
    "        # append to master table\n",
    "        tx_table = pd.concat([tx_df, tx_table], sort=False)\n",
    "        print('{} regions merged and added to master table.'.format(tx))\n",
    "    \n"
   ]
  }
 ],
 "metadata": {
  "kernelspec": {
   "display_name": "Python 3",
   "language": "python",
   "name": "python3"
  },
  "language_info": {
   "codemirror_mode": {
    "name": "ipython",
    "version": 3
   },
   "file_extension": ".py",
   "mimetype": "text/x-python",
   "name": "python",
   "nbconvert_exporter": "python",
   "pygments_lexer": "ipython3",
   "version": "3.7.3"
  }
 },
 "nbformat": 4,
 "nbformat_minor": 4
}
