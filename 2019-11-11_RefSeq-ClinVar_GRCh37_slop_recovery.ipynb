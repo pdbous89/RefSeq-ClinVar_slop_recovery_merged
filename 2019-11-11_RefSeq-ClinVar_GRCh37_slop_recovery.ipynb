{
 "cells": [
  {
   "cell_type": "markdown",
   "metadata": {},
   "source": [
    "### 6 November 2019\n",
    "\n",
    "# Extend RefSeq regions and assess % recovery of ClinVar variants by extension length with bedtools slop\n",
    "### Pavlos Bousounis\n",
    "***Last update 2019-11-12***"
   ]
  },
  {
   "cell_type": "code",
   "execution_count": 47,
   "metadata": {},
   "outputs": [],
   "source": [
    "# import required modules\n",
    "from datetime import datetime\n",
    "import glob\n",
    "import matplotlib.pyplot as plt\n",
    "import os\n",
    "import numpy as np\n",
    "import pandas as pd\n",
    "import pathlib\n",
    "import pybedtools\n",
    "from pybedtools import BedTool\n",
    "import re\n",
    "import seaborn as sns"
   ]
  },
  {
   "cell_type": "code",
   "execution_count": 48,
   "metadata": {},
   "outputs": [],
   "source": [
    "# set base directory\n",
    "basedir = '/Users/pbousounis/Experiments/2019-10-29_hg19mod/RefSeq-ClinVar_GRCh37_slop_region_recovery/data'"
   ]
  },
  {
   "cell_type": "code",
   "execution_count": 49,
   "metadata": {},
   "outputs": [
    {
     "name": "stdout",
     "output_type": "stream",
     "text": [
      "Today is 2019-11-13\n"
     ]
    }
   ],
   "source": [
    "# get today's date as YYYY-MM-DD\n",
    "today = datetime.today().strftime('%Y-%m-%d')\n",
    "print('Today is ' + today)"
   ]
  },
  {
   "cell_type": "markdown",
   "metadata": {},
   "source": [
    "## Define the bed_not function"
   ]
  },
  {
   "cell_type": "code",
   "execution_count": 50,
   "metadata": {},
   "outputs": [],
   "source": [
    "# define the not-element-of function to get regions unique to the test_bed file\n",
    "def bed_not(bed_a_file, bed_b_file):\n",
    "    \n",
    "    \"\"\" Given two bed files, ref_bed and test_bed, perform bedtools intersect -v to return only\n",
    "    regions in the ref_bed file that do NOT overlap any regions in the test_bed file. \"\"\"\n",
    "    \n",
    "    # specify the reference bed file\n",
    "    a_bedtool = BedTool(bed_a_file)\n",
    "    prfx_a = bed_a_file.split('/')[-1]\n",
    "    prfx_a = prfx_a.split('.')[0]\n",
    "    \n",
    "    # specify the new ClinVar bed file\n",
    "    b_bedtool = BedTool(bed_b_file)\n",
    "    prfx_b = bed_b_file.split('/')[-1]\n",
    "    prfx_b = prfx_b.split('.')[0]\n",
    "\n",
    "    # specify name/path of output bed file\n",
    "    out_bed_filepath = '{}/{}_NotIn_{}.bed'.format(os.getcwd(), prfx_a, prfx_b)\n",
    "    \n",
    "    # run bedtools intersect to get all test_bed regions NOT found in ref_bed (-v option)\n",
    "    a_NotIn_b = a_bedtool.intersect(b=b_bedtool, v=True)\n",
    "    a_NotIn_b.head()\n",
    "    \n",
    "    # save \n",
    "    a_NotIn_b.saveas(out_bed_filepath)\n",
    "    feat_count = a_NotIn_b.count()\n",
    "    \n",
    "    # confirm file saved\n",
    "    print('\\nNumber of {} features NOT IN {} = {}'.format(prfx_a, prfx_b, feat_count))\n",
    "    \n",
    "    if os.path.exists(out_bed_filepath):\n",
    "        print('Success! File saved to {}.'.format(os.path.join(os.getcwd(), out_bed_filepath)))\n",
    "\n",
    "    return(feat_count)"
   ]
  },
  {
   "cell_type": "code",
   "execution_count": 51,
   "metadata": {},
   "outputs": [],
   "source": [
    "# create slop file output directory\n",
    "slop_dir_out = os.path.join(basedir, (today + \"_RefSeqGRCh37_exon_slop_bed\"))\n",
    "pathlib.Path(slop_dir_out).mkdir(exist_ok=True)"
   ]
  },
  {
   "cell_type": "code",
   "execution_count": 52,
   "metadata": {},
   "outputs": [],
   "source": [
    "# create the ClinVar bedtool\n",
    "clinvar_bed_filepath = os.path.join(basedir, '2019-11-07_ClinVar-GRCh37_path-likely_path.bed')\n",
    "clinvar_bed = pd.read_csv(clinvar_bed_filepath, sep='\\t', header=None, low_memory=False).drop([0, 0])\n",
    "clinvar_bed[0] = 'chr' + clinvar_bed.loc[:, 0]            \n",
    "  \n",
    "clinvar_bedtool = BedTool.from_dataframe(clinvar_bed)       \n",
    "\n",
    "# save headless clinvar bed\n",
    "clinvar_bed_out = os.path.join(basedir, '2019-11-07-GRCh37_path-likely_path_headless.bed')\n",
    "clinvar_bed.to_csv(clinvar_bed_out, sep='\\t', header=None, index=False)"
   ]
  },
  {
   "cell_type": "code",
   "execution_count": 53,
   "metadata": {},
   "outputs": [],
   "source": [
    "# create the RefSeq bedtool\n",
    "refseq_bed_filepath = os.path.join(basedir, '2019-11-08_RefSeq-GRCh37_latest_genomicGFF3.bed')\n",
    "refseq_bed = pd.read_csv(refseq_bed_filepath, sep='\\t', header=None, low_memory=False)\n",
    "refseq_bed[0] = 'chr' + refseq_bed.loc[:, 0]    \n",
    "          \n",
    "refseq_bedtool = BedTool.from_dataframe(refseq_bed)\n",
    "\n",
    "# save headless refseq bed\n",
    "refseq_bed_out = os.path.join(basedir, '2019-11-08_RefSeq-GRCh37_latest_genomicGFF3_headless.bed')\n",
    "refseq_bed.to_csv(refseq_bed_out, sep='\\t', header=None, index=False)\n"
   ]
  },
  {
   "cell_type": "code",
   "execution_count": 54,
   "metadata": {},
   "outputs": [],
   "source": [
    "# retrieve hg19 chromosome sizes for pybedtools slop\n",
    "hg19_genome = pybedtools.helpers.get_chromsizes_from_ucsc(genome='hg19', saveas='data/hg19.genome')"
   ]
  },
  {
   "cell_type": "code",
   "execution_count": 55,
   "metadata": {},
   "outputs": [
    {
     "name": "stdout",
     "output_type": "stream",
     "text": [
      "\n",
      "Success! File saved:\n",
      "/Users/pbousounis/Experiments/2019-10-29_hg19mod/RefSeq-ClinVar_GRCh37_slop_region_recovery/data/2019-11-13_RefSeqGRCh37_exon_slop_bed/2019-11-13_RefSeqGRCh37_slop5.bed\n",
      "\n",
      "\n",
      "Success! File saved:\n",
      "/Users/pbousounis/Experiments/2019-10-29_hg19mod/RefSeq-ClinVar_GRCh37_slop_region_recovery/data/2019-11-13_RefSeqGRCh37_exon_slop_bed/2019-11-13_RefSeqGRCh37_slop10.bed\n",
      "\n",
      "\n",
      "Success! File saved:\n",
      "/Users/pbousounis/Experiments/2019-10-29_hg19mod/RefSeq-ClinVar_GRCh37_slop_region_recovery/data/2019-11-13_RefSeqGRCh37_exon_slop_bed/2019-11-13_RefSeqGRCh37_slop15.bed\n",
      "\n"
     ]
    }
   ],
   "source": [
    "# for each N in the interval 0, 5, 10, .., 155 (non-inclusive) run bedtools slop adding N bases to each end of each region\n",
    "for i in list(range(5, 20, 5)):\n",
    "    \n",
    "    # create the output filename\n",
    "    file_out = os.path.join(os.getcwd(), slop_dir_out, '{}_RefSeqGRCh37_slop{}.bed'.format(today, i))\n",
    "    \n",
    "    # perform slop: add 'i' bases to each end of each region\n",
    "    refseq_bedtool.slop(g=hg19_genome, b=i).saveas(file_out)\n",
    "    \n",
    "    # check file save\n",
    "    if os.path.isfile(os.path.join(os.getcwd(), file_out)):\n",
    "        print('\\nSuccess! File saved:\\n{}\\n'.format(file_out))"
   ]
  },
  {
   "cell_type": "code",
   "execution_count": 36,
   "metadata": {},
   "outputs": [
    {
     "name": "stdout",
     "output_type": "stream",
     "text": [
      "chr1\t7681999\t7682000\t599309_CAMTA1\n",
      " chr1\t11850972\t11850973\t187901_MTHFR\n",
      " chr1\t11863211\t11863212\t187865_MTHFR\n",
      " chr1\t26126648\t26126649\t665196_SELENON\n",
      " chr1\t26126664\t26126665\t659413_SELENON\n",
      " chr1\t26774025\t26774026\t488195_DHDDS\n",
      " chr1\t46658169\t46658170\t370335_TSPAN1\n",
      " chr1\t94484000\t94484001\t438100_ABCA4\n",
      " chr1\t94492999\t94493000\t560421_ABCA4\n",
      " chr1\t94509046\t94509047\t417986_ABCA4\n",
      " \n",
      "Number of 2019-11-07-GRCh37_path-likely_path_headless features NOT IN 2019-11-12_RefSeqGRCh37_slop15 = 913\n",
      "Success! File saved to /Users/pbousounis/Experiments/2019-10-29_hg19mod/RefSeq-ClinVar_GRCh37_slop_region_recovery/data/2019-11-07-GRCh37_path-likely_path_headless_NotIn_2019-11-12_RefSeqGRCh37_slop15.bed.\n",
      "chr1\t7681999\t7682000\t599309_CAMTA1\n",
      " chr1\t11850972\t11850973\t187901_MTHFR\n",
      " chr1\t11863211\t11863212\t187865_MTHFR\n",
      " chr1\t15772079\t15772080\t439575_CTRC\n",
      " chr1\t17354229\t17354230\t468236_SDHB\n",
      " chr1\t26126648\t26126649\t665196_SELENON\n",
      " chr1\t26126664\t26126665\t659413_SELENON\n",
      " chr1\t26774025\t26774026\t488195_DHDDS\n",
      " chr1\t40558193\t40558194\t56177_PPT1\n",
      " chr1\t46658169\t46658170\t370335_TSPAN1\n",
      " \n",
      "Number of 2019-11-07-GRCh37_path-likely_path_headless features NOT IN 2019-11-12_RefSeqGRCh37_slop10 = 1101\n",
      "Success! File saved to /Users/pbousounis/Experiments/2019-10-29_hg19mod/RefSeq-ClinVar_GRCh37_slop_region_recovery/data/2019-11-07-GRCh37_path-likely_path_headless_NotIn_2019-11-12_RefSeqGRCh37_slop10.bed.\n",
      "chr1\t7681999\t7682000\t599309_CAMTA1\n",
      " chr1\t11850972\t11850973\t187901_MTHFR\n",
      " chr1\t11863211\t11863212\t187865_MTHFR\n",
      " chr1\t15772079\t15772080\t439575_CTRC\n",
      " chr1\t16451823\t16451824\t280146_EPHA2\n",
      " chr1\t17322875\t17322876\t1219_ATP13A2\n",
      " chr1\t17350460\t17350461\t233382_SDHB\n",
      " chr1\t17354229\t17354230\t468236_SDHB\n",
      " chr1\t17371391\t17371392\t438411_SDHB\n",
      " chr1\t22190587\t22190588\t266114_HSPG2\n",
      " \n",
      "Number of 2019-11-07-GRCh37_path-likely_path_headless features NOT IN 2019-11-12_RefSeqGRCh37_slop5 = 1737\n",
      "Success! File saved to /Users/pbousounis/Experiments/2019-10-29_hg19mod/RefSeq-ClinVar_GRCh37_slop_region_recovery/data/2019-11-07-GRCh37_path-likely_path_headless_NotIn_2019-11-12_RefSeqGRCh37_slop5.bed.\n"
     ]
    }
   ],
   "source": [
    "bed_a_file = '2019-11-07-GRCh37_path-likely_path_headless.bed'\n",
    "\n",
    "slop_files = glob.glob('2019-11-12_RefSeqGRCh37_exon_slop_bed/*RefSeqGRCh37_slop*.bed')\n",
    "\n",
    "mydict = {}\n",
    "for i in slop_files:\n",
    "    slop_num = re.findall(r'\\d+', i)[-1]\n",
    "    fname = '{}_RefSeqGRCh37_ClinVar_recovery_{}.bed'.format(today, slop_num)\n",
    "    mydict[slop_num]= bed_not(bed_a_file, i)"
   ]
  },
  {
   "cell_type": "code",
   "execution_count": 30,
   "metadata": {},
   "outputs": [
    {
     "data": {
      "text/plain": [
       "['./2019-11-12_RefSeqGRCh37_exon_slop_bed/2019-11-12_RefSeqGRCh37_slop15.bed',\n",
       " './2019-11-12_RefSeqGRCh37_exon_slop_bed/2019-11-12_RefSeqGRCh37_slop10.bed',\n",
       " './2019-11-12_RefSeqGRCh37_exon_slop_bed/2019-11-12_RefSeqGRCh37_slop5.bed']"
      ]
     },
     "execution_count": 30,
     "metadata": {},
     "output_type": "execute_result"
    }
   ],
   "source": [
    "slop_files\n",
    "#os.chdir('/Users/pbousounis/Experiments/2019-10-29_hg19mod/RefSeq-ClinVar_GRCh37_slop_region_recovery/data')"
   ]
  },
  {
   "cell_type": "code",
   "execution_count": 37,
   "metadata": {},
   "outputs": [
    {
     "data": {
      "text/plain": [
       "{'15': 913, '10': 1101, '5': 1737}"
      ]
     },
     "execution_count": 37,
     "metadata": {},
     "output_type": "execute_result"
    }
   ],
   "source": [
    "mydict"
   ]
  },
  {
   "cell_type": "code",
   "execution_count": 39,
   "metadata": {},
   "outputs": [
    {
     "name": "stdout",
     "output_type": "stream",
     "text": [
      "Success! 2019-11-12_RefSeq-GRCh37_vs_ClinVar-path-l-SLOPS.tsv saved.\n"
     ]
    }
   ],
   "source": [
    "# reformat dictionary and convert to dataframe\n",
    "slop_num = []\n",
    "cv_not_rs = []\n",
    "for x in mydict:\n",
    "    slop_num.append(x)\n",
    "    cv_not_rs.append(mydict[x])\n",
    "\n",
    "newdict = {\n",
    "    'region_slop':slop_num, 'clinvar_NOT_recovered':cv_not_rs\n",
    "}\n",
    "\n",
    "slop_df = pd.DataFrame.from_dict(newdict)\n",
    "slop_df.region_slop = pd.to_numeric(slop_df.region_slop, errors='coerce')\n",
    "df = slop_df.sort_values(by = ['region_slop']).reset_index()\n",
    "del df['index']\n",
    "\n",
    "df_fileout = today + '_RefSeq-GRCh37_vs_ClinVar-path-l-SLOPS.tsv'\n",
    "df.to_csv(df_fileout, sep = '\\t', index=False)\n",
    "if os.path.isfile(df_fileout):\n",
    "    print('Success! {} saved.'.format(df_fileout))"
   ]
  },
  {
   "cell_type": "code",
   "execution_count": 40,
   "metadata": {},
   "outputs": [
    {
     "data": {
      "text/html": [
       "<div>\n",
       "<style scoped>\n",
       "    .dataframe tbody tr th:only-of-type {\n",
       "        vertical-align: middle;\n",
       "    }\n",
       "\n",
       "    .dataframe tbody tr th {\n",
       "        vertical-align: top;\n",
       "    }\n",
       "\n",
       "    .dataframe thead th {\n",
       "        text-align: right;\n",
       "    }\n",
       "</style>\n",
       "<table border=\"1\" class=\"dataframe\">\n",
       "  <thead>\n",
       "    <tr style=\"text-align: right;\">\n",
       "      <th></th>\n",
       "      <th>region_slop</th>\n",
       "      <th>clinvar_NOT_recovered</th>\n",
       "    </tr>\n",
       "  </thead>\n",
       "  <tbody>\n",
       "    <tr>\n",
       "      <th>0</th>\n",
       "      <td>5</td>\n",
       "      <td>1737</td>\n",
       "    </tr>\n",
       "    <tr>\n",
       "      <th>1</th>\n",
       "      <td>10</td>\n",
       "      <td>1101</td>\n",
       "    </tr>\n",
       "    <tr>\n",
       "      <th>2</th>\n",
       "      <td>15</td>\n",
       "      <td>913</td>\n",
       "    </tr>\n",
       "  </tbody>\n",
       "</table>\n",
       "</div>"
      ],
      "text/plain": [
       "   region_slop  clinvar_NOT_recovered\n",
       "0            5                   1737\n",
       "1           10                   1101\n",
       "2           15                    913"
      ]
     },
     "execution_count": 40,
     "metadata": {},
     "output_type": "execute_result"
    }
   ],
   "source": [
    "df"
   ]
  },
  {
   "cell_type": "code",
   "execution_count": 46,
   "metadata": {},
   "outputs": [
    {
     "data": {
      "text/plain": [
       "<matplotlib.axes._subplots.AxesSubplot at 0x7f922b06fe10>"
      ]
     },
     "execution_count": 46,
     "metadata": {},
     "output_type": "execute_result"
    },
    {
     "data": {
      "image/png": "[encoded data removed]",
      "text/plain": [
       "<Figure size 432x288 with 1 Axes>"
      ]
     },
     "metadata": {
      "needs_background": "light"
     },
     "output_type": "display_data"
    }
   ],
   "source": [
    "# Plot the data\n",
    "df.plot.bar(x='region_slop', y='clinvar_NOT_recovered', rot = 0) "
   ]
  },
  {
   "cell_type": "code",
   "execution_count": null,
   "metadata": {},
   "outputs": [],
   "source": []
  }
 ],
 "metadata": {
  "kernelspec": {
   "display_name": "Python 3",
   "language": "python",
   "name": "python3"
  },
  "language_info": {
   "codemirror_mode": {
    "name": "ipython",
    "version": 3
   },
   "file_extension": ".py",
   "mimetype": "text/x-python",
   "name": "python",
   "nbconvert_exporter": "python",
   "pygments_lexer": "ipython3",
   "version": "3.7.3"
  }
 },
 "nbformat": 4,
 "nbformat_minor": 4
}
