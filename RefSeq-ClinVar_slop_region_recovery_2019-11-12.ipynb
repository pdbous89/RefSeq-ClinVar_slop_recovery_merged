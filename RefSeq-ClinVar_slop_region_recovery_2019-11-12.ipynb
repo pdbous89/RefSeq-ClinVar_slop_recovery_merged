{
 "cells": [
  {
   "cell_type": "markdown",
   "metadata": {},
   "source": [
    "### 13 November, 2019\n",
    "# Calculate recovery of ClinVar transcripts in RefSeq exonic regions by slop length\n",
    "### Pavlos Bousounis\n",
    "***Updated 2019-11-13***"
   ]
  },
  {
   "cell_type": "markdown",
   "metadata": {},
   "source": [
    "### Import modules"
   ]
  },
  {
   "cell_type": "code",
   "execution_count": 6,
   "metadata": {},
   "outputs": [],
   "source": [
    "from datetime import datetime\n",
    "import gffutils\n",
    "import gzip\n",
    "import numpy as np\n",
    "import os\n",
    "import pandas as pd\n",
    "import pybedtools\n",
    "from pybedtools import BedTool\n",
    "import shutil\n",
    "import re"
   ]
  },
  {
   "cell_type": "code",
   "execution_count": 9,
   "metadata": {},
   "outputs": [],
   "source": [
    "# set working directory\n",
    "os.chdir('/Users/pbousounis/Experiments/2019-10-29_hg19mod/RefSeq-ClinVar_GRCh37_slop_region_recovery/data')"
   ]
  },
  {
   "cell_type": "markdown",
   "metadata": {},
   "source": [
    "### Get today's date"
   ]
  },
  {
   "cell_type": "code",
   "execution_count": 10,
   "metadata": {},
   "outputs": [
    {
     "name": "stdout",
     "output_type": "stream",
     "text": [
      "Today is: 2019-11-13\n"
     ]
    }
   ],
   "source": [
    "today = datetime.today().strftime('%Y-%m-%d')\n",
    "\n",
    "print('Today is: {}'.format(today))"
   ]
  },
  {
   "cell_type": "markdown",
   "metadata": {},
   "source": [
    "## Import RefSeq exonic regions"
   ]
  },
  {
   "cell_type": "code",
   "execution_count": 11,
   "metadata": {},
   "outputs": [],
   "source": [
    "rsbed_file = '2019-11-08_RefSeq-GRCh37_latest_genomicGFF3.bed'\n",
    "rsbed = pd.read_csv(rsbed_file, sep='\\t', low_memory=False, names=['chr', 'start', 'end', 'name'])\n",
    "\n",
    "# extract genes\n",
    "rsbed['gene'] = rsbed['name'].str.split('-').str[0]\n",
    "\n",
    "# extract transcripts \n",
    "rsbed['rs_tx'] = rsbed['name'].str.extract(r'(\\w+-)(N(M|R)_\\d+)')[1]"
   ]
  },
  {
   "cell_type": "code",
   "execution_count": 12,
   "metadata": {},
   "outputs": [],
   "source": [
    "# bedtools groupby\n",
    "\n",
    "rsbedtool = BedTool.from_dataframe(rsbed)\n",
    "\n",
    "rsbedtool_by_tx = rsbedtool.gropuby()"
   ]
  },
  {
   "cell_type": "markdown",
   "metadata": {},
   "source": [
    "## Slop each transcript and save to transcript-specific subfolders"
   ]
  },
  {
   "cell_type": "code",
   "execution_count": null,
   "metadata": {},
   "outputs": [],
   "source": [
    "# create tx_slop file output directory\n",
    "slop_tx_dir_out = os.path.join(basedir, (today + \"_RefSeqGRCh37_exon_TX_slop_bed\"))\n",
    "pathlib.Path(slop_tx_dir_out).mkdir(exist_ok=True)\n",
    "\n",
    "\n",
    "for tx in rsbed.rs_tx.unique():\n",
    "    \n",
    "    tmp_df = rsbed[rsbed.rs_tx == tx]\n",
    "    tmp_df['chr'] = 'chr' + tmp_df['chr']\n",
    "    \n",
    "    \n",
    "    bedtool_tx = BedTool.from_dataframe(tmp_df)\n",
    "    \n",
    "    # create tx output directory\n",
    "    tx_dir_out = os.path.join(slop_tx_dir_out, tx)\n",
    "    pathlib.Path(tx_dir_out, ).mkdir(exist_ok=True)\n",
    "    \n",
    "    # for each N in the interval 0, 5, 10, .., 155 (non-inclusive) run slop adding N bases to each end of each region\n",
    "    for i in list(range(5, 155, 5)):\n",
    "        \n",
    "        # create the output filename\n",
    "        file_out = os.path.join(tx_dir_out, '{}_RefSeqGRCh37_slop{}_{}.bed'.format(today, i, tx))\n",
    "            \n",
    "        # perform slop: add 'i' bases to each end of each region\n",
    "        bedtool_tx.slop(g=hg19_genome, b=i).saveas(file_out)\n",
    "            \n",
    "        # check file save\n",
    "        if os.path.isfile(os.path.join(os.getcwd(), file_out)):\n",
    "            print('\\nSuccess! {} saved.\\n'.format(file_out))"
   ]
  },
  {
   "cell_type": "markdown",
   "metadata": {},
   "source": [
    "### "
   ]
  },
  {
   "cell_type": "code",
   "execution_count": null,
   "metadata": {},
   "outputs": [],
   "source": [
    "for f in os.listdir(slop_tx_dir_out)"
   ]
  },
  {
   "cell_type": "markdown",
   "metadata": {},
   "source": [
    "## TESTING\n",
    "\n",
    "* for every unique transcript ID in the RefSeq bed file:\n",
    "    - subset the RefSeq bed by transcript ID\n",
    "    - create empty slop df list\n",
    "    \n",
    "    for every 'n' in range(5,155,5):\n",
    "        - slop 'n' basepairs to each region in transcript\n",
    "        - append to the transcript slop df list\n",
    "    \n",
    "GOAL: One list for each transcript, containing each slop dataframe as elements"
   ]
  },
  {
   "cell_type": "code",
   "execution_count": null,
   "metadata": {},
   "outputs": [],
   "source": [
    "# create tx_slop file output directory\n",
    "slop_tx_dir_out = os.path.join(basedir, (today + \"_RefSeqGRCh37_exon_TX_slop_bed\"))\n",
    "pathlib.Path(slop_tx_dir_out).mkdir(exist_ok=True)\n",
    "\n",
    "\n",
    "for tx in rsbed.rs_tx.unique():\n",
    "    \n",
    "    tmp_df = rsbed[rsbed.rs_tx == tx]\n",
    "    tmp_df['chr'] = 'chr' + tmp_df['chr']\n",
    "    \n",
    "    \n",
    "    bedtool_tx = BedTool.from_dataframe(tmp_df)\n",
    "    \n",
    "    # create tx output directory\n",
    "    tx_dir_out = os.path.join(slop_tx_dir_out, tx)\n",
    "    pathlib.Path(tx_dir_out, ).mkdir(exist_ok=True)\n",
    "    \n",
    "    # for each N in the interval 0, 5, 10, .., 155 (non-inclusive) run slop adding N bases to each end of each region\n",
    "    for i in list(range(5, 155, 5)):\n",
    "        \n",
    "        # create the output filename\n",
    "        file_out = os.path.join(tx_dir_out, '{}_RefSeqGRCh37_slop{}_{}.bed'.format(today, i, tx))\n",
    "            \n",
    "        # perform slop: add 'i' bases to each end of each region\n",
    "        bedtool_tx.slop(g=hg19_genome, b=i).saveas(file_out)\n",
    "            \n",
    "        # check file save\n",
    "        if os.path.isfile(os.path.join(os.getcwd(), file_out)):\n",
    "            print('\\nSuccess! {} saved.\\n'.format(file_out))"
   ]
  }
 ],
 "metadata": {
  "kernelspec": {
   "display_name": "Python 3",
   "language": "python",
   "name": "python3"
  },
  "language_info": {
   "codemirror_mode": {
    "name": "ipython",
    "version": 3
   },
   "file_extension": ".py",
   "mimetype": "text/x-python",
   "name": "python",
   "nbconvert_exporter": "python",
   "pygments_lexer": "ipython3",
   "version": "3.7.3"
  }
 },
 "nbformat": 4,
 "nbformat_minor": 4
}
