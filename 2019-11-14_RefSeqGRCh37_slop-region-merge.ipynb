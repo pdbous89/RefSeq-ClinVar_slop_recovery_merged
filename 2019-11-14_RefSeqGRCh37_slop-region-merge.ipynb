{
 "cells": [
  {
   "cell_type": "markdown",
   "metadata": {},
   "source": [
    "### 14 November 2019\n",
    "# Bedtools merge of slop file regions\n",
    "* Attempt to correct over-counting of ClinVar variants per RefSeq exonic region\n",
    "\n",
    "***Last updated 11-14-2019***"
   ]
  },
  {
   "cell_type": "code",
   "execution_count": 1,
   "metadata": {},
   "outputs": [],
   "source": [
    "from datetime import datetime\n",
    "import glob\n",
    "from natsort import natsorted\n",
    "import numpy as np\n",
    "import os\n",
    "import pandas as pd\n",
    "import pathlib\n",
    "import pybedtools\n",
    "from pybedtools import BedTool\n",
    "import re"
   ]
  },
  {
   "cell_type": "markdown",
   "metadata": {},
   "source": [
    "### Set working directory"
   ]
  },
  {
   "cell_type": "code",
   "execution_count": 2,
   "metadata": {},
   "outputs": [],
   "source": [
    "basedir = '/Users/pbousounis/Experiments/2019-10-29_hg19mod/2019-11-10_RefSeq-ClinVar_GRCh37_slop_region_recovery'\n",
    "os.chdir(basedir)"
   ]
  },
  {
   "cell_type": "markdown",
   "metadata": {},
   "source": [
    "### Save working directory and date"
   ]
  },
  {
   "cell_type": "code",
   "execution_count": 3,
   "metadata": {},
   "outputs": [
    {
     "name": "stdout",
     "output_type": "stream",
     "text": [
      "Currently in /Users/pbousounis/Experiments/2019-10-29_hg19mod/RefSeq-ClinVar_GRCh37_slop_region_recovery\n",
      "\n",
      "Today is 2019-11-14\n"
     ]
    }
   ],
   "source": [
    "# get current working directory\n",
    "basedir = os.getcwd()\n",
    "# get today's date as YYYY-MM-DD\n",
    "today = datetime.today().strftime('%Y-%m-%d')\n",
    "\n",
    "print('Currently in ' + basedir + '\\n')\n",
    "print('Today is ' + today)"
   ]
  },
  {
   "cell_type": "code",
   "execution_count": 5,
   "metadata": {},
   "outputs": [],
   "source": [
    "# create output folder \n",
    "dir_out = os.path.join(('output/' + today + \"_RefSeqGRCh37_exon_slop_merged-regions_bed\"))\n",
    "pathlib.Path(dir_out).mkdir(exist_ok=True)"
   ]
  },
  {
   "cell_type": "code",
   "execution_count": 9,
   "metadata": {},
   "outputs": [],
   "source": [
    "# get list of saved slop files\n",
    "slop_files_dir = 'data/2019-11-13_RefSeqGRCh37_exon_slop_bed/'\n",
    "slop_files = glob.glob(slop_files_dir + '*RefSeqGRCh37*slop*bed')"
   ]
  },
  {
   "cell_type": "code",
   "execution_count": null,
   "metadata": {},
   "outputs": [],
   "source": []
  },
  {
   "cell_type": "code",
   "execution_count": 34,
   "metadata": {},
   "outputs": [],
   "source": [
    "for file in slop_files:\n",
    "    file_out = today + re.findall(r'_RefSeqGRCh37_slop\\w+', file)[0] + '-merged.bed'\n",
    "    file_bedtool = BedTool(file).sort()\n",
    "    merged_bedtool = file_bedtool.merge(c=4, o='collapse').saveas(os.path.join(dir_out, file_out))"
   ]
  },
  {
   "cell_type": "code",
   "execution_count": null,
   "metadata": {},
   "outputs": [],
   "source": []
  }
 ],
 "metadata": {
  "kernelspec": {
   "display_name": "Python 3",
   "language": "python",
   "name": "python3"
  },
  "language_info": {
   "codemirror_mode": {
    "name": "ipython",
    "version": 3
   },
   "file_extension": ".py",
   "mimetype": "text/x-python",
   "name": "python",
   "nbconvert_exporter": "python",
   "pygments_lexer": "ipython3",
   "version": "3.7.3"
  }
 },
 "nbformat": 4,
 "nbformat_minor": 4
}
